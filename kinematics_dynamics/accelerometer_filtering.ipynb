{
 "cells": [
  {
   "cell_type": "markdown",
   "metadata": {
    "deletable": false,
    "editable": false,
    "nbgrader": {
     "checksum": "1d043c568940a6a7a2e6ccc37a3b6cf2",
     "grade": false,
     "grade_id": "cell-a9d47dc97a7ad6ac",
     "locked": true,
     "schema_version": 1,
     "solution": false
    }
   },
   "source": [
    "## Preliminaries\n",
    "\n",
    "\n",
    "### Installations\n",
    "\n",
    "In order to work through this notebook, you must install pyulog and pandas.\n",
    "\n",
    "+ Install pyulog:\n",
    "~~~~\n",
    "sudo apt-get install python-testresources\n",
    "sudo pip install pyulog\n",
    "~~~~\n",
    "\n",
    "+ Install pandas:\n",
    "~~~~\n",
    "sudo apt-get install python-pandas\n",
    "~~~~\n",
    "\n",
    "### Recording a flight log\n",
    "A new flight log is recorded every time the flight controller is powered on (and are stored when it powered off). To record a new flight log:\n",
    "\n",
    "+ In QGroundControl, click on the \"page and magnifying glass\" symbol in the top left corner. Select **Mavlink Console**.\n",
    "+ To start recording a new flight log, enter `reboot` into the command terminal.\n",
    "+ To stop recording, enter`reboot` into the command terminal again.\n",
    "+ Flight data is logged using the .ulog file format. \n",
    "\n",
    "<div class=\"alert alert-info\">\n",
    "**Note:** Optical flow must be started *after* the first reboot\n",
    "</div>\n",
    "\n",
    "### Accessing a flight log\n",
    "You can access your flight logs (stored as .ulg files) in `/var/lib/mavlink-router/`\n",
    "\n",
    "### Converting .ulg file to .csv file\n",
    "In this nootbook we will work with a pandas dataframe. In order to create a pandas dataframe of flight log data, we must first convert the .ulg file to .csv files (one .ulg file will be split into multiple .csv files, each containing specific flight infomation). This can be done with the following command:\n",
    "~~~~\n",
    "ulog2csv <your-ulg-file>.ulg\n",
    "~~~~\n",
    "\n",
    "+ The unfiltered accelorometer data is stored in the 'sensor_combined' .csv file\n",
    "+ The filtered accelorometer date is stored in the 'estimator_status' .csv file"
   ]
  },
  {
   "attachments": {
    "rea.jpg": {
     "image/jpeg": "[encoded data removed]"
    }
   },
   "cell_type": "markdown",
   "metadata": {
    "deletable": false,
    "editable": false,
    "nbgrader": {
     "checksum": "7645f1da962bfaf28980413d033511a7",
     "grade": false,
     "grade_id": "cell-5d2d50c3d1faa1c0",
     "locked": true,
     "schema_version": 1,
     "solution": false
    }
   },
   "source": [
    "### Relationship between acceleration, velocity and position\n",
    "![rea.jpg](attachment:rea.jpg)\n",
    "\n",
    "Let's see how integration works in python using constant acceleration."
   ]
  },
  {
   "cell_type": "markdown",
   "metadata": {
    "deletable": false,
    "editable": false,
    "nbgrader": {
     "checksum": "959e6d2552e9feae46a78a6b538d3a37",
     "grade": false,
     "grade_id": "cell-b7c507ef26f3930c",
     "locked": true,
     "schema_version": 1,
     "solution": false
    }
   },
   "source": [
    "## Idealized Acceleration"
   ]
  },
  {
   "cell_type": "code",
   "execution_count": null,
   "metadata": {
    "deletable": false,
    "editable": false,
    "nbgrader": {
     "checksum": "95c6ee2e9dca03de538b679705dba735",
     "grade": false,
     "grade_id": "cell-0d4e0f4b9602ffd9",
     "locked": true,
     "schema_version": 1,
     "solution": false
    }
   },
   "outputs": [],
   "source": [
    "import pandas as pd\n",
    "import numpy as np\n",
    "import scipy.integrate\n",
    "import matplotlib.pyplot as plt"
   ]
  },
  {
   "cell_type": "code",
   "execution_count": null,
   "metadata": {
    "deletable": false,
    "editable": false,
    "nbgrader": {
     "checksum": "bf63c08341efd78d6ae5239f0ec0f079",
     "grade": false,
     "grade_id": "cell-dd3d28832b228a08",
     "locked": true,
     "schema_version": 1,
     "solution": false
    }
   },
   "outputs": [],
   "source": [
    "# Example acceleration data representing constant acceleration over a period of 10 seconds\n",
    "##Just run this code\n",
    "data = [(0, 1), (1, 1), (2, 1), (3, 1), (4, 1), (5, 1), (6, 1), (7, 1), (8, 1), (9, 1), (10, 1)] # (time, accel)\n",
    "\n",
    "times = []\n",
    "accel = []\n",
    "for point in data: \n",
    "    times.append(point[0])\n",
    "    accel.append(point[1])\n",
    "    \n",
    "# Plot acceration vs. time\n",
    "fig,ax = plt.subplots()\n",
    "ax.plot([time for time in times], accel)\n",
    "ax.set_ylabel('acceleration (m/s^2)')\n",
    "ax.set_xlabel('time (sec)')\n",
    "fig.set_size_inches(10,4)"
   ]
  },
  {
   "cell_type": "code",
   "execution_count": null,
   "metadata": {
    "deletable": false,
    "editable": false,
    "nbgrader": {
     "checksum": "04f2a20038d463f7e34f30b372b69520",
     "grade": false,
     "grade_id": "cell-6cbc078a2f41cfe4",
     "locked": true,
     "schema_version": 1,
     "solution": false
    }
   },
   "outputs": [],
   "source": [
    "# Integrate acceration to get the drone's velocity at each time\n",
    "##Run this code and see how integration works in python\n",
    "vel = scipy.integrate.cumtrapz(accel, x = times, initial = 0)\n",
    "\n",
    "# Plot velocity vs. time\n",
    "fig,ax = plt.subplots()\n",
    "ax.plot([time for time in times], vel)\n",
    "ax.set_ylabel('velocity (m/s)')\n",
    "ax.set_xlabel('time (sec)')\n",
    "fig.set_size_inches(10,4)"
   ]
  },
  {
   "cell_type": "code",
   "execution_count": null,
   "metadata": {
    "deletable": false,
    "nbgrader": {
     "checksum": "d2c59b42b27ff6e06c3f4ccb3602b7ad",
     "grade": true,
     "grade_id": "cell-54c83f746d4292aa",
     "locked": false,
     "points": 5,
     "schema_version": 1,
     "solution": true
    }
   },
   "outputs": [],
   "source": [
    "# Integrate velocity to get the drone's position at each time\n",
    "\n",
    "# YOUR CODE HERE\n",
    "raise NotImplementedError()\n",
    "\n",
    "# Plot position vs. time\n",
    "fig,ax = plt.subplots()\n",
    "ax.plot([time for time in times], pos)\n",
    "ax.set_ylabel('position (m)')\n",
    "ax.set_xlabel('time (sec)')\n",
    "fig.set_size_inches(10,4)"
   ]
  },
  {
   "cell_type": "markdown",
   "metadata": {
    "deletable": false,
    "editable": false,
    "nbgrader": {
     "checksum": "7f5d868000cc843fe1bb81ef28392550",
     "grade": false,
     "grade_id": "cell-61920eb9df6becda",
     "locked": true,
     "schema_version": 1,
     "solution": false
    }
   },
   "source": [
    "## State estimation in UAV\n",
    "\n",
    "You just saw how it works in python. Then, let's see how it works in measured data of the drone. \n",
    "We will fly the drone and give you flight log data(ulg) file. Your mission is analyzing the data, estimate and plot the position in x direction, then compare it to the kalman filter data.\n",
    "\n",
    "For visual reference, here is a video of the flight from which the flight log was generated:\n",
    "\n",
    "https://drive.google.com/file/d/1tmNqJppgiuaaBKqzV_VnTG3gkm_FK_E-/view?usp=sharing"
   ]
  },
  {
   "cell_type": "markdown",
   "metadata": {
    "deletable": false,
    "editable": false,
    "nbgrader": {
     "checksum": "2181084d37685ef975669c2338a78b4c",
     "grade": false,
     "grade_id": "cell-efbe39b53b072214",
     "locked": true,
     "schema_version": 1,
     "solution": false
    }
   },
   "source": [
    "### Load log data\n",
    "\n",
    "The first data frame we will create contains the accelerations measured by the drone's accelerometer. The columns accelerometer_m_s2[0], accelerometer_m_s2[1], and accelerometer_m_s2[2] contain the accelerations measured in the XYZ body frame (in m/s/s)."
   ]
  },
  {
   "cell_type": "code",
   "execution_count": null,
   "metadata": {},
   "outputs": [],
   "source": [
    "# Load sensor data as a pandas data frame\n",
    "##ulg file should be change to csv file using above command \n",
    "##if you change ulg file to csv file, you can see lots of csv file. Choose _-sensor_combined_0.csv to do this lab\n",
    "sensor_data = pd.DataFrame.from_csv('accelerometer_filtering_test_flight_sensor_combined_0.csv')\n",
    "sensor_data.head()"
   ]
  },
  {
   "cell_type": "markdown",
   "metadata": {
    "deletable": false,
    "editable": false,
    "nbgrader": {
     "checksum": "459fd1af017d3ca11026401fc06fd630",
     "grade": false,
     "grade_id": "cell-c5b591c6990af5fa",
     "locked": true,
     "schema_version": 1,
     "solution": false
    }
   },
   "source": [
    "The second data frame we will create contains state estimation data that has been filtered by an algorithm called the Extended Kalman Filter (EKF). The EKF processes sensor measurements from multiple sources (IMU, magnitometer, range finder, optical flow, etc.) and blends them together to get a much more accurate estimation of the drone's state. The columns states[4], states[5], and states[6] contain the velocities in the NED frame (in m/s)."
   ]
  },
  {
   "cell_type": "code",
   "execution_count": null,
   "metadata": {},
   "outputs": [],
   "source": [
    "# Load EKF data as a pandas data frame\n",
    "ekf_data = pd.DataFrame.from_csv('accelerometer_filtering_test_flight_estimator_status_0.csv')\n",
    "ekf_data.head()"
   ]
  },
  {
   "cell_type": "markdown",
   "metadata": {},
   "source": [
    "### Filter the accelerometer data"
   ]
  },
  {
   "cell_type": "code",
   "execution_count": null,
   "metadata": {
    "deletable": false,
    "nbgrader": {
     "checksum": "284c5ef0eeb0306c7d225a68a4c22571",
     "grade": true,
     "grade_id": "cell-7731fd210c20c76b",
     "locked": false,
     "points": 1,
     "schema_version": 1,
     "solution": true
    }
   },
   "outputs": [],
   "source": [
    "# Acceleration data in the XYZ body frame (m/s/s)\n",
    "accel_x = sensor_data['accelerometer_m_s2[0]'].tolist()\n",
    "accel_y = sensor_data['accelerometer_m_s2[1]'].tolist()\n",
    "accel_z = sensor_data['accelerometer_m_s2[2]'].tolist()\n",
    "\n",
    "def get_times(timestamps):\n",
    "    \"\"\"\n",
    "    Given a list of timestamps (in microseconds), returns a list of times (in seconds) starting at t = 0.\n",
    "    \n",
    "        Args:\n",
    "            - timestamps = list of timestamps (microseconds)\n",
    "            \n",
    "        Returns: list of times (seconds) \n",
    "    \"\"\"\n",
    "    start = timestamps[0]\n",
    "    k = 1.0/1000000\n",
    "    times = []\n",
    "    for timestamp in timestamps:\n",
    "        time = k * (timestamp - start)\n",
    "        times.append(time)\n",
    "    return times\n",
    "\n",
    "# Convert timestamps into a list of times (in sec) starting at t = 0.\n",
    "sensor_times = get_times(sensor_data.index.tolist())\n",
    "\n",
    "# Plot acceleration vs. sensor_time (we will only plot acceleration in the x direction)\n",
    "fig,ax = plt.subplots()\n",
    "# YOUR CODE HERE\n",
    "raise NotImplementedError()\n",
    "ax.set_ylabel('accel_x (m/s^2)')\n",
    "ax.set_xlabel('time (sec)')\n",
    "fig.set_size_inches(10,4)"
   ]
  },
  {
   "cell_type": "code",
   "execution_count": null,
   "metadata": {},
   "outputs": [],
   "source": [
    "# Low pass filter example (not used)\n",
    "def low_pass_filter(sequence, windowsize):\n",
    "    positions = len(sequence) - windowsize + 1\n",
    "    windows = []\n",
    "    for i in range(positions):\n",
    "        window = np.array(sequence[i:i+windowsize])\n",
    "        mean = window.mean()\n",
    "        windows.append(mean)\n",
    "    return np.array(windows)\n",
    "\n",
    "# Apply a low pass filter to the accelerometer data\n",
    "windowsize = 200\n",
    "lp_accel_x = np.convolve(accel_x, np.ones((windowsize,))/windowsize, mode='same')\n",
    "lp_accel_y = np.convolve(accel_y, np.ones((windowsize,))/windowsize, mode='same')\n",
    "lp_accel_z = np.convolve(accel_z, np.ones((windowsize,))/windowsize, mode='same')\n",
    "\n",
    "# Plot lpf acceleration vs. time (we will only plot acceleration in the x direction)\n",
    "fig,ax = plt.subplots()\n",
    "ax.plot([time for time in sensor_times], lp_accel_x)\n",
    "ax.set_ylabel('lp_accel_x (m/s^2)')\n",
    "ax.set_xlabel('time (sec)')\n",
    "fig.set_size_inches(10,4)"
   ]
  },
  {
   "cell_type": "markdown",
   "metadata": {},
   "source": [
    "### Calculate change in position\n",
    "\n",
    "With flight logs, you can estimate position by integrating acceleration. See how it looks "
   ]
  },
  {
   "cell_type": "code",
   "execution_count": null,
   "metadata": {
    "deletable": false,
    "nbgrader": {
     "checksum": "024b56887048a3050b231b1a5b15a55a",
     "grade": true,
     "grade_id": "cell-d96442543456ab9e",
     "locked": false,
     "points": 0,
     "schema_version": 1,
     "solution": true
    }
   },
   "outputs": [],
   "source": [
    "# Integrate acceration to get the drone's velocity at each time\n",
    "# YOUR CODE HERE\n",
    "raise NotImplementedError()\n",
    "\n",
    "# Integrate velocity to get the drone's position at each time\n",
    "# YOUR CODE HERE\n",
    "raise NotImplementedError()\n",
    "\n",
    "# Plot position vs. time (we will only plot acceleration in the x direction)\n",
    "fig,ax = plt.subplots()\n",
    "ax.plot([time for time in sensor_times], lp_pos_x)\n",
    "ax.set_ylabel('lp_pose_x (meters)')\n",
    "ax.set_xlabel('time (sec)')\n",
    "fig.set_size_inches(10,4)"
   ]
  },
  {
   "cell_type": "markdown",
   "metadata": {
    "deletable": false,
    "editable": false,
    "nbgrader": {
     "checksum": "a35a92c0b7f42fbb0ce04ae5fd913e7f",
     "grade": false,
     "grade_id": "cell-ed10193fa64daf39",
     "locked": true,
     "schema_version": 1,
     "solution": false
    }
   },
   "source": [
    "### Kalman filter\n",
    "As you can see from the above result, it is quite different from what you expected. The estimated position came out to near 20 meters! To solve the problem, one answer is using Kalman filters. You can estimate your states more accurately with it. Below is some code to extract Kalman filter information that is stored during the test flight. Using this data, calculate the position again and compare with the above sensor data."
   ]
  },
  {
   "cell_type": "code",
   "execution_count": null,
   "metadata": {
    "deletable": false,
    "nbgrader": {
     "checksum": "579cb5ed02516120be91a4c805753e1f",
     "grade": true,
     "grade_id": "cell-7c09f93c5383a02e",
     "locked": false,
     "points": 5,
     "schema_version": 1,
     "solution": true
    }
   },
   "outputs": [],
   "source": [
    "# EKF velocity data in the NED frame (m/s)\n",
    "ekf_vel_x = ekf_data['states[4]'].tolist()\n",
    "ekf_vel_y = ekf_data['states[5]'].tolist()\n",
    "ekf_vel_z = ekf_data['states[6]'].tolist()\n",
    "\n",
    "# Convert timestamps into a list of times (in sec) starting at t = 0.\n",
    "ekf_times = get_times(ekf_data.index.tolist())\n",
    "\n",
    "# Integrate EKF velocity to get the drone's position at each time\n",
    "# YOUR CODE HERE\n",
    "raise NotImplementedError()\n",
    "\n",
    "# Plot position vs. time (we will only plot acceleration in the x direction)\n",
    "fig,ax = plt.subplots()\n",
    "ax.plot([time for time in ekf_times], ekf_pos_est_x)\n",
    "ax.set_ylabel('ekf_pose_x (meters)')\n",
    "ax.set_xlabel('time (sec)')\n",
    "fig.set_size_inches(10,4)"
   ]
  },
  {
   "cell_type": "markdown",
   "metadata": {
    "deletable": false,
    "editable": false,
    "nbgrader": {
     "checksum": "65457076e9db54a8cc732ed262453387",
     "grade": false,
     "grade_id": "cell-3ae08582b596681c",
     "locked": true,
     "schema_version": 1,
     "solution": false
    }
   },
   "source": [
    "### Compare gained position with estimated position in karman\n",
    "Actually, kalman filter data has its estimated poisition. Compare the above data you got from integrating acceleration with the data in kalman filter. (state[7] indicates the position estimation from the kalman filter)"
   ]
  },
  {
   "cell_type": "code",
   "execution_count": null,
   "metadata": {},
   "outputs": [],
   "source": [
    "# EKF position data in the NED frame (m/s)\n",
    "ekf_pos_x = ekf_data['states[7]'].tolist()\n",
    "ekf_pos_y = ekf_data['states[8]'].tolist()\n",
    "ekf_pos_z = ekf_data['states[9]'].tolist()\n",
    "\n",
    "# Plot position vs. time (we will only plot acceleration in the x direction)\n",
    "fig,ax = plt.subplots()\n",
    "ax.plot([time for time in ekf_times], ekf_pos_est_x, [time for time in ekf_times], ekf_pos_x,)\n",
    "ax.set_ylabel('ekf_pose_x (meters)')\n",
    "ax.set_xlabel('time (sec)')\n",
    "ax.legend(['pos integrated from ekf vel', 'pos direct from ekf'])\n",
    "fig.set_size_inches(10,4)"
   ]
  },
  {
   "cell_type": "code",
   "execution_count": null,
   "metadata": {},
   "outputs": [],
   "source": []
  }
 ],
 "metadata": {
  "kernelspec": {
   "display_name": "Python 3",
   "language": "python",
   "name": "python3"
  },
  "language_info": {
   "codemirror_mode": {
    "name": "ipython",
    "version": 3
   },
   "file_extension": ".py",
   "mimetype": "text/x-python",
   "name": "python",
   "nbconvert_exporter": "python",
   "pygments_lexer": "ipython3",
   "version": "3.6.8"
  }
 },
 "nbformat": 4,
 "nbformat_minor": 2
}
