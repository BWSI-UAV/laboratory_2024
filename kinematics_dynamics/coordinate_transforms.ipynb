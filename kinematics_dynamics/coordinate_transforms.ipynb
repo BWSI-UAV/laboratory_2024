{
 "cells": [
  {
   "cell_type": "markdown",
   "metadata": {
    "deletable": false,
    "editable": false,
    "nbgrader": {
     "checksum": "2ec21f0023ab3f3513901fb0e0100cf5",
     "grade": false,
     "grade_id": "cell-d7bae02416d7dbec",
     "locked": true,
     "schema_version": 1,
     "solution": false
    }
   },
   "source": [
    "# Practicing Coordinate Transforms\n",
    "\n",
    "In this notebook we will be practicing how to transform vectors between the various reference frames used for navigating and controlling an autonomous quadrotor. For this work we will be relying heavily on the [tf/transformations.py](https://github.com/ros/geometry/blob/hydro-devel/tf/src/tf/transformations.py) library."
   ]
  },
  {
   "cell_type": "code",
   "execution_count": null,
   "metadata": {},
   "outputs": [],
   "source": [
    "from __future__ import division, print_function\n",
    "import numpy as np\n",
    "import tf.transformations as tft\n",
    "\n",
    "# Variable Notation:\n",
    "# v__x: vector expressed in \"x\" frame\n",
    "# q_x_y: quaternion of \"x\" frame with respect to \"y\" frame\n",
    "# p_x_y__z: position of \"x\" frame with respect to \"y\" frame expressed in \"z\" coordinates\n",
    "# v_x_y__z: velocity of \"x\" frame with respect to \"y\" frame expressed in \"z\" coordinates\n",
    "# R_x2y: rotation matrix that maps vector represented in frame \"x\" to representation in frame \"y\" (right-multiply column vec)\n",
    "#\n",
    "# Frame Subscripts:\n",
    "# dc = downward-facing camera (body-fixed, non-inertial frame. Origin: downward camera focal plane. Alignment with respect to drone airframe: x-forward, y-right, z-down)\n",
    "# fc = forward-facing camera (body-fixed, non-inertial frame. Origin: forward camera focal plane. Alignment with respect to drone airframe: x-right, y-down, z-forward)\n",
    "# bu = body-up frame (body-fixed, non-inertial frame. Origin: drone center of mass. Alignment with respect to drone airframe: x-forward, y-left, z-up)\n",
    "# bd = body-down frame (body-fixed, non-inertial frame. Origin: drone center of mass. Alignment with respect to drone airframe: x-forward, y-right, z-down)\n",
    "# lenu = local East-North-Up world frame (world-fixed, inertial frame. Origin: apprx at take-off point, but not guaranteed. Alignment with respect to world: x-East, y-North, z-up)\n",
    "# lned = local North-East-Down world frame (world-fixed, inertial frame. Origin: apprx at take-off point, but not guaranteed. Alignment with respect to world: x-North, y-East, z-down)\n",
    "# m = marker frame (inertial or non-inertial, depending on motion of marker. Origin: center of marker. Alignment when looking at marker: x-right, y-up, z-out of plane toward you)"
   ]
  },
  {
   "cell_type": "markdown",
   "metadata": {
    "deletable": false,
    "editable": false,
    "nbgrader": {
     "checksum": "b5891a9d1502b1738d1f5a646d8803e0",
     "grade": false,
     "grade_id": "cell-21698261f7cc7719",
     "locked": true,
     "schema_version": 1,
     "solution": false
    }
   },
   "source": [
    "## Concept Questions"
   ]
  },
  {
   "cell_type": "markdown",
   "metadata": {
    "deletable": false,
    "editable": false,
    "nbgrader": {
     "checksum": "fe83f319e2cbbb03d33301e95ffc50e3",
     "grade": false,
     "grade_id": "cell-96297b66b2ccb5d8",
     "locked": true,
     "schema_version": 1,
     "solution": false
    }
   },
   "source": [
    "### Velocities of Relative Frames\n",
    "\n",
    "Just based on your understanding of what the different reference frames represent, can you find the following velocities just by inspection? The first is filled out for you to show answer format:\n",
    "\n",
    "1. v_bu_bu__bu = [0.0, 0.0, 0.0]\n",
    "2. v_dc_dc__dc = \n",
    "3. v_bd_bd__fc = \n",
    "4. v_dc_dc__lned = \n",
    "5. v_dc_bu__lenu = "
   ]
  },
  {
   "cell_type": "code",
   "execution_count": null,
   "metadata": {
    "deletable": false,
    "nbgrader": {
     "checksum": "e726ab70fce8905f98ad663eafce21ca",
     "grade": true,
     "grade_id": "cell-126c1e96ae0a9a4f",
     "locked": false,
     "points": 5,
     "schema_version": 1,
     "solution": true
    }
   },
   "outputs": [],
   "source": [
    "# Place your answers here in markdown or comment form\n",
    "\n",
    "# YOUR CODE HERE\n",
    "raise NotImplementedError()"
   ]
  },
  {
   "cell_type": "markdown",
   "metadata": {
    "deletable": false,
    "editable": false,
    "nbgrader": {
     "checksum": "9e46aadb347db81191c3887f3366a3f0",
     "grade": false,
     "grade_id": "cell-96297b66b2ccb5d9",
     "locked": true,
     "schema_version": 1,
     "solution": false
    }
   },
   "source": [
    "### Valid Operations with Relative Frames\n",
    "\n",
    "Which of these operations are valid and which are invalid. If valid, write the resulting variable name. If invalid, give a brief explanation why. The first is filled out for you to show answer format:\n",
    "\n",
    "1. p_m_fc__lenu - p_bu_fc__lenu          => p_m_bu__lenu\n",
    "2. np.dot(R_bu2lenu, v_bu_lenu__bu)      => \n",
    "3. np.dot(R_bu2lenu, v_bu_lenu__lenu)    => invalid, R_bu2lenu maps a vector expressed in bu to a vector expressed in lenu, but v_bu_lenu__lenu is already expressed in lenu therefore this will generate a non-sensical answer\n",
    "4. v_dc_m__dc - p_m_lenu__dc             => \n",
    "5. p_bu_fc__lned - np.dot(R_m2lned, p_m_fc__m) => \n",
    "\n"
   ]
  },
  {
   "cell_type": "code",
   "execution_count": null,
   "metadata": {
    "deletable": false,
    "nbgrader": {
     "checksum": "05385798d14872bf3821bf9d5f6f16e0",
     "grade": true,
     "grade_id": "cell-10a590da6e6107d6",
     "locked": false,
     "points": 5,
     "schema_version": 1,
     "solution": true
    }
   },
   "outputs": [],
   "source": [
    "# Place your answers here in markdown or comment form\n",
    "\n",
    "# YOUR CODE HERE\n",
    "raise NotImplementedError()"
   ]
  },
  {
   "cell_type": "markdown",
   "metadata": {},
   "source": [
    "## Fixed/Static Relative Rotations\n",
    "\n",
    "This rotation matrices are constant, they don't change regardless of the motion of the quadrotor. We can use this knowledge to \"hard code\" a set of transformations into a class we call `StaticTransforms` which can be used throughout our flight code.\n",
    "\n",
    "In the next code block, you will need to complete some of the components and variable definitions of the `StaticTransforms` class"
   ]
  },
  {
   "cell_type": "code",
   "execution_count": null,
   "metadata": {
    "deletable": false,
    "nbgrader": {
     "checksum": "69cfd1af53347376dcc78a446b4e73cf",
     "grade": false,
     "grade_id": "cell-03a68c2cba3e6e99",
     "locked": false,
     "schema_version": 1,
     "solution": true
    }
   },
   "outputs": [],
   "source": [
    "class StaticTransforms():\n",
    "    # local ENU and local NED\n",
    "    self.R_lenu2lned = np.array([[0.0, 1.0, 0.0, 0.0],\n",
    "                                 [1.0, 0.0, 0.0, 0.0],\n",
    "                                 [0.0, 0.0,-1.0, 0.0],\n",
    "                                 [0.0, 0.0, 0.0, 0.0]])\n",
    "\n",
    "    # body-up and body-down\n",
    "    R_bu2bd = tft.rotation_matrix(np.pi, (1,0,0))\n",
    "\n",
    "    # downward camera and body-down\n",
    "    # YOUR CODE HERE\n",
    "    raise NotImplementedError()\n",
    "\n",
    "    # forward camera and body-down\n",
    "    R_fc2bd = np.array([[0.0, 0.0, 1.0, 0.0],\n",
    "                        [1.0, 0.0, 0.0, 0.0],\n",
    "                        [0.0, 1.0, 0.0, 0.0],\n",
    "                        [0.0, 0.0, 0.0, 1.0]])\n",
    "    \n",
    "    # Find inverse rotation matrices \n",
    "    R_lned2lenu = R_lenu2lned.T\n",
    "    R_bd2bu = R_bu2bd.T\n",
    "    R_bd2dc = R_dc2bd.T\n",
    "    R_bd2fc = R_fc2bd.T\n",
    "    \n",
    "    # Find concatenated rotation matrices from downward-camera to forward-camera\n",
    "    R_dc2fc = tft.concatenate_matrices(R_bd2fc, R_dc2bd)\n",
    "    R_fc2dc = R_dc2fc.T\n",
    "    R_dc2bu = tft.concatenate_matrices(R_bd2bu, R_dc2bd)\n",
    "    R_bu2dc = R_dc2bu.T\n",
    "    R_fc2bu = tft.concatenate_matrices(R_bd2bu, R_fc2bd)\n",
    "    R_bu2fc = R_fc2bu.T\n",
    "    \n",
    "    def __init__(self):\n",
    "        pass\n",
    "    \n",
    "    def coord_transform(self, v__fin, fin, fout):\n",
    "        ''' transform vector v which is represented in frame fin into its representation in frame fout\n",
    "        Args:\n",
    "        - v__fin: 3D vector represented in fin coordinates\n",
    "        - fin: string describing input coordinate frame (bd, bu, fc, dc, lned, lenu)\n",
    "        - fout: string describing output coordinate frame (bd, bu, fc, dc, lned, lenu)\n",
    "        Returns\n",
    "        - v__fout: vector v represent in fout coordinates\n",
    "        '''\n",
    "        \n",
    "        # trivial transform, checking input shape\n",
    "        if fin==fout:\n",
    "            v4__fin = list(v__fin)+[0.0]\n",
    "            R = tft.identity_matrix()\n",
    "            v4__fout = np.dot(R, v4__fin)\n",
    "            v__fout = v4__fout[0:3]\n",
    "            return v__fout\n",
    "        \n",
    "        # check for existence of rotation matrix\n",
    "        R_str = 'R_{}2{}'.format(fin, fout)\n",
    "        try:\n",
    "            R_fin2fout = getattr(self, R_str)\n",
    "        except AttributeError:\n",
    "            err = 'No static transform exists from {} to {}.'.format(fin, fout)\n",
    "            err += ' Are you sure these frames are not moving relative to each other?'\n",
    "            raise AttributeError(err)\n",
    "        \n",
    "        # perform transform\n",
    "        v4__fin = list(v__fin) + [0.0]\n",
    "        # YOUR CODE HERE\n",
    "        raise NotImplementedError()\n",
    "        v__fout = v4__fout[0:3]\n",
    "        return v__fout\n",
    " \n",
    "st = StaticTransforms()"
   ]
  },
  {
   "cell_type": "code",
   "execution_count": null,
   "metadata": {
    "deletable": false,
    "editable": false,
    "nbgrader": {
     "checksum": "5e8987d704953473b2bb3d985c980d92",
     "grade": true,
     "grade_id": "cell-bd3a259b500ae0f0",
     "locked": true,
     "points": 5,
     "schema_version": 1,
     "solution": false
    }
   },
   "outputs": [],
   "source": [
    "assert np.allclose(st.coord_transform([1.0, 0.0, 0.0], 'bu', 'bu'), [1.0, 0.0, 0.0])\n",
    "assert np.allclose(st.coord_transform([0.08511008, 0.38572187, 0.51372079], 'dc', 'dc'), [0.08511008, 0.38572187, 0.51372079])\n",
    "assert np.allclose(st.coord_transform([0.0, 0.0, 1.0], 'fc', 'bd'), [1.0, 0.0, 0.0])\n",
    "assert np.allclose(st.coord_transform([0.0, 0.0, 1.0], 'dc', 'bu'), [0.0, 0.0, -1.0])"
   ]
  },
  {
   "cell_type": "code",
   "execution_count": null,
   "metadata": {
    "deletable": false,
    "nbgrader": {
     "checksum": "c76b2aa4b6f967acec4d2c3072b76589",
     "grade": false,
     "grade_id": "cell-cef010ed0d88f271",
     "locked": false,
     "schema_version": 1,
     "solution": true
    }
   },
   "outputs": [],
   "source": [
    "# Let's assume the quadrotor has some velocity v1_bd_lned__bd which is the velocity of the quadrotor \n",
    "# body-down frame with respect to the local NED world frame expressed in the body-down frame.\n",
    "# Using the fixed relative rotations, calculate it's expression in the body-up, downward-camera, and forward-camera frames\n",
    "v1_bd_lned__bd = [1.0, 0.0, 0.0]\n",
    "# YOUR CODE HERE\n",
    "raise NotImplementedError()\n",
    "print(v1_bd_lned__bu)\n",
    "print(v1_bd_lned__dc)\n",
    "print(v1_bd_lned__fc)\n",
    "\n",
    "# Let's assume the quadrotor has some velocity v2_bd_lned__bd which is the velocity of the quadrotor \n",
    "# body-down frame with respect to the local NED world frame expressed in the body-down frame.\n",
    "# Using the fixed relative rotations, calculate it's expression in the body-up, downward-camera, and forward-camera frames\n",
    "v2_bd_lned__bd = [0.147, 0.798, 1.221]\n",
    "# YOUR CODE HERE\n",
    "raise NotImplementedError()\n",
    "print(v2_bd_lned__bu)\n",
    "print(v2_bd_lned__dc)\n",
    "print(v2_bd_lned__fc)\n",
    "\n",
    "# Let's assume the quadrotor has some velocity v3_dc_lenu__dc which is the velocity of the quadrotor \n",
    "# downward-camera frame with respect to the local ENU world frame expressed in the downward-camera frame.\n",
    "# Using the static transforms, calculate it's expression in the body-down, forward-camera, and body-up frames\n",
    "v3_dc_lenu__dc = [4.853, 2.979, 1.884]\n",
    "# YOUR CODE HERE\n",
    "raise NotImplementedError()\n",
    "print(v3_dc_lenu__bd)\n",
    "print(v3_dc_lenu__fc)\n",
    "print(v3_dc_lenu__bu)\n",
    "\n",
    "# Let's assume the quadrotor has some velocity v4_fc_lenu__bd which is the velocity of the quadrotor \n",
    "# forward-camera frame with respect to the local ENU world frame expressed in the body-down frame.\n",
    "# Using the static transforms, calculate it's expression in the forward-camera, downward-camera and and body-up frames\n",
    "v4_fc_lenu__bd = [0.0, 0.0, -1.0]\n",
    "# YOUR CODE HERE\n",
    "raise NotImplementedError()\n",
    "print(v4_fc_lenu__fc)\n",
    "print(v4_fc_lenu__dc)\n",
    "print(v4_fc_lenu__bu)\n"
   ]
  },
  {
   "cell_type": "code",
   "execution_count": null,
   "metadata": {
    "deletable": false,
    "editable": false,
    "nbgrader": {
     "checksum": "5800229bfb2e9211d9714151d9db23d8",
     "grade": true,
     "grade_id": "cell-0dacd5bd4eae94e0",
     "locked": true,
     "points": 8,
     "schema_version": 1,
     "solution": false
    }
   },
   "outputs": [],
   "source": [
    "# Autograder, do not modify\n",
    "\n",
    "assert np.allclose(v1_bd_lned__bd, [1.0, 0.0, 0.0])\n",
    "assert np.allclose(v2_bd_lned__bd, [0.147, 0.798, 1.221])\n",
    "assert np.allclose(v3_dc_lenu__dc, [4.853, 2.979, 1.884])\n",
    "assert np.allclose(v4_fc_lenu__bd, [0.0, 0.0, -1.0])"
   ]
  },
  {
   "cell_type": "markdown",
   "metadata": {
    "deletable": false,
    "editable": false,
    "nbgrader": {
     "checksum": "7b8eda6b3800fef4bc9b0c32de00fc94",
     "grade": false,
     "grade_id": "cell-052cb870fceab7a8",
     "locked": true,
     "schema_version": 1,
     "solution": false
    }
   },
   "source": [
    "## Dynamic Relative Rotations\n",
    "\n",
    "In the previous section we looked at reference frames that remain fixed relative to one another (i.e. reference frames that are all attached to quadrotor or reference frames, or reference frames that are all associated with inertial local world frames). Now were going to look at reference frames that may be moving relative to one another, such as a body-fixed frame and the local world frame.\n",
    "\n",
    "For such moving frames, we often can't create rotation matrices by inspection. Furthermore, such rotations need to be calculated automatically by the quadrotor's flight computer in real-time. This is the job of the _state estimator_ that runs onboard the flight computer. The state estimator will output estimates of the relative rotations between local world frame and the body frame.\n",
    "\n",
    "More specifically, the topic `mavros/local_position/pose` provides [`PoseStamped`](http://docs.ros.org/melodic/api/geometry_msgs/html/msg/PoseStamped.html) messages that contain the orientation of the body-down frame with respect to the local ENU frame in the form of a [`Quaternion`](http://docs.ros.org/melodic/api/geometry_msgs/html/msg/Quaternion.html).\n",
    "\n",
    "Therefore, when using MAVROS, you could use a assignment such as the one below to find `q_bu_lenu`:\n",
    "\n",
    "```\n",
    "q_bu_lenu = pose_stamped_msg.pose.orientation\n",
    "```\n",
    "\n",
    "Below is a function that we can use when flying the drone to transforms vectors in an arbitrary reference frame to the local ENU reference frame, assuming that we have access to the `mavros/local_position/pose` topic to tell us `q_bu_lenu` (in this case we assume they are velocity vectors) "
   ]
  },
  {
   "cell_type": "code",
   "execution_count": null,
   "metadata": {},
   "outputs": [],
   "source": [
    "def get_lenu_velocity(q_bu_lenu, v__fin, fin='bu', static_transforms=None):\n",
    "        '''tranforms a vector represented in fin frame to vector in lenu frame\n",
    "        Args:\n",
    "        - v__fin: 3D vector represented in input frame coordinates\n",
    "        - fin: string describing input coordinate frame (bd, bu, fc, dc)\n",
    "        Returns:\n",
    "        - v__lenu: 3D vector v represented in local ENU world frame\n",
    "        '''\n",
    "\n",
    "        # create static transforms if none given\n",
    "        if static_transforms is None:\n",
    "            static_transforms = StaticTransforms()\n",
    "\n",
    "        if fin=='lenu':\n",
    "            v__lenu = v__fin\n",
    "\n",
    "        elif fin=='lned':\n",
    "            v__lenu = static_transforms.coord_transform(v__fin, 'lned', 'lenu')\n",
    "\n",
    "        else:\n",
    "            # create rotation matrix from quaternion\n",
    "            R_bu2lenu = tft.quaternion_matrix(q_bu_lenu)\n",
    "            \n",
    "            # represent vector v in body-down coordinates\n",
    "            v__bu = static_transforms.coord_transform(v__fin, fin, 'bu')\n",
    "            \n",
    "            # calculate lenu representation of v\n",
    "            v__lenu = np.dot(R_bu2lenu, list(v__bu)+[0.0])\n",
    "\n",
    "        v__lenu = np.array(v__lenu[0:3])\n",
    "        return v__lenu"
   ]
  },
  {
   "cell_type": "markdown",
   "metadata": {},
   "source": [
    "## ROS tf2 Library\n",
    "\n",
    "The problems we have attempted to address in this module (i.e. managing multiple reference frames) are by no means unique to quadrotors and we are not the first people to write functions to solve such problems. The functionality of managing different reference frames is ubiquitous throughout robotics, aerospace engineering, mechanical engineering, computer graphics, etc. and many libraries have been written for handling such functionality. When working with ROS, the most important of such libraries is the [tf (now tf2) library](http://wiki.ros.org/tf2). While we have access to this library on the drone, we have not made use of it here because it obscures some of the underlying mathematics that we hope for you to learn and it requires additional setup steps when defining new frames that we don't intend to teach. If you are curious to know more about how ROS manages large numbers of reference frames simultaneously, we encourage you to read up more on `tf`.\n",
    "\n",
    "__NOTE:__ `tf` in the context of ROS should not be confused with TensorFlow which is often abbreviated as tf in code. These libraries have completely different purposes."
   ]
  },
  {
   "cell_type": "code",
   "execution_count": null,
   "metadata": {},
   "outputs": [],
   "source": []
  }
 ],
 "metadata": {
  "kernelspec": {
   "display_name": "Python 2",
   "language": "python",
   "name": "python2"
  },
  "language_info": {
   "codemirror_mode": {
    "name": "ipython",
    "version": 3
   },
   "file_extension": ".py",
   "mimetype": "text/x-python",
   "name": "python",
   "nbconvert_exporter": "python",
   "pygments_lexer": "ipython3",
   "version": "3.6.8"
  }
 },
 "nbformat": 4,
 "nbformat_minor": 2
}
