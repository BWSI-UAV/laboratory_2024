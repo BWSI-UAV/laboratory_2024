{
 "cells": [
  {
   "cell_type": "code",
   "execution_count": null,
   "metadata": {},
   "outputs": [],
   "source": [
    "from __future__ import print_function\n",
    "%matplotlib inline\n",
    "import numpy as np\n",
    "import matplotlib.pyplot as plt\n",
    "import cv2\n",
    "from IPython.display import HTML, YouTubeVideo\n",
    "import matplotlib.patches as patches\n",
    "from matplotlib.lines import Line2D\n",
    "import ganymede\n",
    "ganymede.configure('uav.beaver.works')"
   ]
  },
  {
   "cell_type": "markdown",
   "metadata": {},
   "source": [
    "### Enter your name below and run the cell:\n",
    "\n",
    "Individual cells can be run with `Ctrl` + `Enter`"
   ]
  },
  {
   "cell_type": "code",
   "execution_count": null,
   "metadata": {},
   "outputs": [],
   "source": [
    "ganymede.name('YOUR NAME HERE')\n",
    "def check(p):\n",
    "    ganymede.update(p,True)\n",
    "check(0)"
   ]
  },
  {
   "cell_type": "markdown",
   "metadata": {},
   "source": [
    "https://www.khanacademy.org/math/statistics-probability/describing-relationships-quantitative-data/more-on-regression/v/squared-error-of-regression-line\n",
    "\n",
    "*Note: All Khan Academy content is available for free at khanacademy.org*"
   ]
  },
  {
   "cell_type": "code",
   "execution_count": null,
   "metadata": {},
   "outputs": [],
   "source": [
    "YouTubeVideo('6OvhLPS7rj4', width=560, height=315)"
   ]
  },
  {
   "cell_type": "code",
   "execution_count": null,
   "metadata": {},
   "outputs": [],
   "source": [
    "YouTubeVideo('mIx2Oj5y9Q8', width=560, height=315)"
   ]
  },
  {
   "cell_type": "code",
   "execution_count": null,
   "metadata": {},
   "outputs": [],
   "source": [
    "YouTubeVideo('f6OnoxctvUk', width=560, height=315)"
   ]
  },
  {
   "cell_type": "code",
   "execution_count": null,
   "metadata": {},
   "outputs": [],
   "source": [
    "YouTubeVideo('u1HhUB3NP8g', width=560, height=315)"
   ]
  },
  {
   "cell_type": "code",
   "execution_count": null,
   "metadata": {},
   "outputs": [],
   "source": [
    "YouTubeVideo('8RSTQl0bQuw', width=560, height=315)"
   ]
  },
  {
   "cell_type": "code",
   "execution_count": null,
   "metadata": {},
   "outputs": [],
   "source": [
    "YouTubeVideo('GAmzwIkGFgE', width=560, height=315)"
   ]
  },
  {
   "cell_type": "markdown",
   "metadata": {},
   "source": [
    "**The last video is optional**"
   ]
  },
  {
   "cell_type": "code",
   "execution_count": null,
   "metadata": {},
   "outputs": [],
   "source": [
    "YouTubeVideo('ww_yT9ckPWw', width=560, height=315)"
   ]
  },
  {
   "cell_type": "code",
   "execution_count": null,
   "metadata": {},
   "outputs": [],
   "source": [
    "lightningbolt = cv2.imread('shapes/lightningbolt.png', cv2.IMREAD_GRAYSCALE)\n",
    "_, lightningbolt = cv2.threshold(lightningbolt,150,255,cv2.THRESH_BINARY)\n",
    "print(lightningbolt.shape)\n",
    "fig,ax = plt.subplots()\n",
    "ax.imshow(lightningbolt, cmap='gray');\n",
    "check(1)"
   ]
  },
  {
   "cell_type": "code",
   "execution_count": null,
   "metadata": {},
   "outputs": [],
   "source": [
    "np.argwhere?"
   ]
  },
  {
   "cell_type": "code",
   "execution_count": null,
   "metadata": {},
   "outputs": [],
   "source": [
    "bolt = np.argwhere(lightningbolt)\n",
    "bolt"
   ]
  },
  {
   "cell_type": "markdown",
   "metadata": {},
   "source": [
    "## Linear Regression\n",
    "\n",
    "$$m = \\frac{\\bar{x}\\bar{y} - \\overline{xy}}{(\\bar{x})^2 - \\overline{x^2}}$$\n",
    "\n",
    "$$b = \\bar{y} - m\\bar{x}$$"
   ]
  },
  {
   "cell_type": "markdown",
   "metadata": {},
   "source": [
    "## Question: how can we extract the xs and ys separately from the result of argwhere?\n",
    "\n",
    "Hint: review numpy slicing by columns and rows"
   ]
  },
  {
   "cell_type": "code",
   "execution_count": null,
   "metadata": {},
   "outputs": [],
   "source": [
    "# TODO\n",
    "# Your answer here"
   ]
  },
  {
   "cell_type": "markdown",
   "metadata": {},
   "source": [
    "## Question: Why would we want to convert x and y points from int values to floats?"
   ]
  },
  {
   "cell_type": "code",
   "execution_count": null,
   "metadata": {},
   "outputs": [],
   "source": [
    "# TODO\n",
    "# Your answer here"
   ]
  },
  {
   "cell_type": "code",
   "execution_count": null,
   "metadata": {},
   "outputs": [],
   "source": [
    "def calculate_regression(points): # input is the result of np.argwhere\n",
    "    # convert points to float\n",
    "    points = None #TODO (see astype, https://docs.scipy.org/doc/numpy/reference/generated/numpy.ndarray.astype.html)\n",
    "    \n",
    "    xs = None #TODO\n",
    "    ys = None #TODO\n",
    "    x_mean = None #TODO\n",
    "    y_mean = None #TODO\n",
    "\n",
    "    xy_mean = None #TODO\n",
    "\n",
    "    x_squared_mean = None #TODO\n",
    "\n",
    "    m = None #TODO\n",
    "    \n",
    "    b = None #TODO\n",
    "\n",
    "    return (m,b)"
   ]
  },
  {
   "cell_type": "markdown",
   "metadata": {},
   "source": [
    "The intercept we calculated, $b$, may be outside of the pixel space of the image, so we must find two points inside of pixel space, $(x_1, y_1)$ and $(x2, y2)$ which will allow us to plot our regression line on the image. It may be best to choose points on the regression line which also occur on the boundaries/extrema of the image."
   ]
  },
  {
   "cell_type": "code",
   "execution_count": null,
   "metadata": {},
   "outputs": [],
   "source": [
    "def find_inliers(m, b, shape):\n",
    "    x1, y1, x2, y2 = None, None, None, None # TODO\n",
    "    raise NotImplementedError #TODO"
   ]
  },
  {
   "cell_type": "code",
   "execution_count": null,
   "metadata": {},
   "outputs": [],
   "source": [
    "star = cv2.imread('shapes/squishedstar.png', cv2.IMREAD_GRAYSCALE)\n",
    "print(star.shape)\n",
    "\n",
    "_, star = cv2.threshold(star,125,255,cv2.THRESH_BINARY)\n",
    "fig,ax = plt.subplots()\n",
    "ax.imshow(star, cmap='gray');"
   ]
  },
  {
   "cell_type": "code",
   "execution_count": null,
   "metadata": {},
   "outputs": [],
   "source": [
    "m,b = calculate_regression(np.argwhere(star))\n",
    "_ = find_inliers(m,b, star.shape)"
   ]
  },
  {
   "cell_type": "code",
   "execution_count": null,
   "metadata": {},
   "outputs": [],
   "source": [
    "# below is an example of how to draw a random line from (10,25) to (10,55)\n",
    "# TODO: replace this with the result of find_inliers\n",
    "# -- pay attention to the directions of the x and y axes \n",
    "#    in image space, row-column space, and cartesian space\n",
    "# Look at the help function for Line2D below\n",
    "\n",
    "fig,ax = plt.subplots()\n",
    "ax.imshow(star, cmap='gray');\n",
    "regression = Line2D([10,25],[10,55], color='lime')\n",
    "ax.add_line(regression);"
   ]
  },
  {
   "cell_type": "code",
   "execution_count": null,
   "metadata": {},
   "outputs": [],
   "source": [
    "Line2D?"
   ]
  },
  {
   "cell_type": "markdown",
   "metadata": {},
   "source": [
    "## TODO\n",
    "\n",
    "1. Run your linear regression algorithm on the following images. \n",
    "2. Plot each of the results. \n",
    "3. Include each result in your submitted PDF."
   ]
  },
  {
   "cell_type": "code",
   "execution_count": null,
   "metadata": {},
   "outputs": [],
   "source": [
    "lightningbolt      = cv2.imread('shapes/lightningbolt.png', cv2.IMREAD_GRAYSCALE)\n",
    "blob               = cv2.imread('shapes/blob.png', cv2.IMREAD_GRAYSCALE)\n",
    "star               = cv2.imread('shapes/star.png', cv2.IMREAD_GRAYSCALE)\n",
    "squishedstar       = cv2.imread('shapes/squishedstar.png', cv2.IMREAD_GRAYSCALE)\n",
    "squishedturnedstar = cv2.imread('shapes/squishedturnedstar.png', cv2.IMREAD_GRAYSCALE)\n",
    "letterj            = cv2.imread('shapes/letterj.png', cv2.IMREAD_GRAYSCALE)\n",
    "\n",
    "images = [lightningbolt, blob, star, squishedstar, squishedturnedstar, letterj]"
   ]
  },
  {
   "cell_type": "markdown",
   "metadata": {},
   "source": [
    "## When you are done:\n",
    "\n",
    "You should have six images with regression lines plotted on top of them.\n",
    "\n",
    "1. Double-check that you filled in your name at the top of the notebook!\n",
    "2. Click `File` -> `Export Notebook As` -> `PDF`\n",
    "3. Email the PDF to `YOURTEAMNAME@beaver.works` "
   ]
  },
  {
   "cell_type": "markdown",
   "metadata": {},
   "source": [
    "## Stretch goal\n",
    "\n",
    "*Implement a machine learning algorithm!*\n",
    "\n",
    "**Ran**dom **Sa**mple **C**onsensus, commonly referred to as *RANSAC*, is one of the most widely used machine learning algorithms. In essence, it is a 'guess and check' algorithm. Take a small random sample of your data - two points in this case. Next, define a line through those two points. After doing so, count the number of *inliers*, or points closest to that line (euclidean distance is one way to do this).\n",
    "\n",
    "https://en.wikipedia.org/wiki/Random_sample_consensus\n",
    "\n",
    "Implement RANSAC for linear regression, and run it on all of your images."
   ]
  }
 ],
 "metadata": {
  "kernelspec": {
   "display_name": "Python 3",
   "language": "python",
   "name": "python3"
  },
  "language_info": {
   "codemirror_mode": {
    "name": "ipython",
    "version": 3
   },
   "file_extension": ".py",
   "mimetype": "text/x-python",
   "name": "python",
   "nbconvert_exporter": "python",
   "pygments_lexer": "ipython3",
   "version": "3.6.8"
  }
 },
 "nbformat": 4,
 "nbformat_minor": 2
}
