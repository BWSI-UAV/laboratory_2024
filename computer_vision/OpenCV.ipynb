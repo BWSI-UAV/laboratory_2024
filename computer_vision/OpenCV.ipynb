{
 "cells": [
  {
   "cell_type": "code",
   "execution_count": null,
   "metadata": {},
   "outputs": [],
   "source": [
    "%matplotlib inline\n",
    "from __future__ import print_function\n",
    "import ganymede\n",
    "ganymede.configure('uav.beaver.works')\n",
    "import matplotlib.pyplot as plt\n",
    "import numpy as np\n",
    "import cv2\n",
    "import os"
   ]
  },
  {
   "cell_type": "code",
   "execution_count": null,
   "metadata": {},
   "outputs": [],
   "source": [
    "def check(p): pass\n",
    "check(0)"
   ]
  },
  {
   "cell_type": "markdown",
   "metadata": {},
   "source": [
    "## Note\n",
    "\n",
    "`cv2.imshow()` will not work in a notebook, even though the OpenCV tutorials use it. Instead, use `plt.imshow` and family to visualize your results."
   ]
  },
  {
   "cell_type": "code",
   "execution_count": null,
   "metadata": {},
   "outputs": [],
   "source": [
    "lightningbolt      = cv2.imread('shapes/lightningbolt.png', cv2.IMREAD_GRAYSCALE)\n",
    "blob               = cv2.imread('shapes/blob.png', cv2.IMREAD_GRAYSCALE)\n",
    "star               = cv2.imread('shapes/star.png', cv2.IMREAD_GRAYSCALE)\n",
    "squishedstar       = cv2.imread('shapes/squishedstar.png', cv2.IMREAD_GRAYSCALE)\n",
    "squishedturnedstar = cv2.imread('shapes/squishedturnedstar.png', cv2.IMREAD_GRAYSCALE)\n",
    "letterj            = cv2.imread('shapes/letterj.png', cv2.IMREAD_GRAYSCALE)\n",
    "\n",
    "images = [lightningbolt, blob, star, squishedstar, squishedturnedstar, letterj]\n",
    "\n",
    "fig,ax = plt.subplots(nrows=3, ncols=2)\n",
    "for a,i in zip(ax.flatten(), images):\n",
    "    a.imshow(i, cmap='gray', interpolation='none');\n",
    "fig.set_size_inches(7,14);"
   ]
  },
  {
   "cell_type": "code",
   "execution_count": null,
   "metadata": {},
   "outputs": [],
   "source": [
    "intensity_values = set(lightningbolt.flatten())\n",
    "print(len(intensity_values))"
   ]
  },
  {
   "cell_type": "markdown",
   "metadata": {},
   "source": [
    "## Question:\n",
    "\n",
    "What would you expect the value to be, visually? What explains the actual value?"
   ]
  },
  {
   "cell_type": "code",
   "execution_count": null,
   "metadata": {},
   "outputs": [],
   "source": [
    "# TODO\n",
    "# Your Answer"
   ]
  },
  {
   "cell_type": "markdown",
   "metadata": {},
   "source": [
    "## Thresholding\n",
    "\n",
    "https://docs.opencv.org/3.4.1/d7/d4d/tutorial_py_thresholding.html"
   ]
  },
  {
   "cell_type": "code",
   "execution_count": null,
   "metadata": {},
   "outputs": [],
   "source": [
    "_, lightningbolt = cv2.threshold(lightningbolt,0,255,cv2.THRESH_BINARY)\n",
    "\n",
    "intensity_values = set(lightningbolt.flatten())\n",
    "print(len(intensity_values))\n",
    "\n",
    "plt.imshow(lightningbolt, cmap='gray');"
   ]
  },
  {
   "cell_type": "markdown",
   "metadata": {},
   "source": [
    "## Question\n",
    "What happens when the above values are used for thresholding? What is a \"good\" value for thresholding the above images? Why?"
   ]
  },
  {
   "cell_type": "code",
   "execution_count": null,
   "metadata": {},
   "outputs": [],
   "source": [
    "## TODO\n",
    "## Your answer"
   ]
  },
  {
   "cell_type": "markdown",
   "metadata": {},
   "source": [
    "# Exercises\n",
    "\n",
    "**Steps**\n",
    "\n",
    "1. Read each tutorial\n",
    "    * Skim all parts of each tutorial to understand what each operation does\n",
    "    * Focus on the part you will need for the requested transformation\n",
    "2. Apply the transformation and visualize it"
   ]
  },
  {
   "cell_type": "markdown",
   "metadata": {},
   "source": [
    "## 1. Blend lightningbolt and blob together\n",
    "https://docs.opencv.org/3.4.1/d0/d86/tutorial_py_image_arithmetics.html\n",
    "\n",
    "*Remember:* Don't use `imshow` from OpenCV, use `imshow` from `matplotlib`"
   ]
  },
  {
   "cell_type": "code",
   "execution_count": null,
   "metadata": {},
   "outputs": [],
   "source": [
    "# 1. Blend\n",
    "# TODO"
   ]
  },
  {
   "cell_type": "markdown",
   "metadata": {},
   "source": [
    "## 2. Find a ROI which contains the point of the lightning bolt\n",
    "\n",
    "https://docs.opencv.org/3.4.1/d3/df2/tutorial_py_basic_ops.html"
   ]
  },
  {
   "cell_type": "code",
   "execution_count": null,
   "metadata": {},
   "outputs": [],
   "source": [
    "# 2. ROI\n",
    "# TODO"
   ]
  },
  {
   "cell_type": "markdown",
   "metadata": {},
   "source": [
    "## 3. Use an averaging kernel on the letter j\n",
    "\n",
    "https://docs.opencv.org/3.4.1/d4/d13/tutorial_py_filtering.html"
   ]
  },
  {
   "cell_type": "code",
   "execution_count": null,
   "metadata": {},
   "outputs": [],
   "source": [
    "# 3. \n",
    "# TODO"
   ]
  },
  {
   "cell_type": "markdown",
   "metadata": {},
   "source": [
    "# Morphology\n",
    "\n",
    "https://docs.opencv.org/3.4.1/d9/d61/tutorial_py_morphological_ops.html"
   ]
  },
  {
   "cell_type": "markdown",
   "metadata": {},
   "source": [
    "## 4. Perform erosion on j with a 3x3 kernel"
   ]
  },
  {
   "cell_type": "code",
   "execution_count": null,
   "metadata": {},
   "outputs": [],
   "source": [
    "# 4\n",
    "# TODO"
   ]
  },
  {
   "cell_type": "markdown",
   "metadata": {},
   "source": [
    "## 5. Perform erosion on j with a 5x5 kernel"
   ]
  },
  {
   "cell_type": "code",
   "execution_count": null,
   "metadata": {},
   "outputs": [],
   "source": [
    "# 5\n",
    "# TODO"
   ]
  },
  {
   "cell_type": "markdown",
   "metadata": {},
   "source": [
    "## 6. Perform erosion on j with __two__ iterations, using a kernel size of your choice\n",
    "\n",
    "Hint: look at the OpenCV API documentation. It is possible to perform two iterations of erosion in one line of Python!\n",
    "\n",
    "https://docs.opencv.org/3.4.1/d4/d86/group__imgproc__filter.html#gaeb1e0c1033e3f6b891a25d0511362aeb\n",
    "\n"
   ]
  },
  {
   "cell_type": "code",
   "execution_count": null,
   "metadata": {},
   "outputs": [],
   "source": [
    "# 6\n",
    "# TODO"
   ]
  },
  {
   "cell_type": "markdown",
   "metadata": {},
   "source": [
    "## 7. Perform dilation on j with a 3x3 kernel"
   ]
  },
  {
   "cell_type": "code",
   "execution_count": null,
   "metadata": {},
   "outputs": [],
   "source": [
    "# 7\n",
    "# TODO"
   ]
  },
  {
   "cell_type": "markdown",
   "metadata": {},
   "source": [
    "## 8. Perform dilation on j with a 5x5 kernel"
   ]
  },
  {
   "cell_type": "code",
   "execution_count": null,
   "metadata": {},
   "outputs": [],
   "source": [
    "# 8\n",
    "# TODO"
   ]
  },
  {
   "cell_type": "markdown",
   "metadata": {},
   "source": [
    "## 9. What is the effect of kernel size on morphology operations?"
   ]
  },
  {
   "cell_type": "code",
   "execution_count": null,
   "metadata": {},
   "outputs": [],
   "source": [
    "# 9\n",
    "# TODO"
   ]
  },
  {
   "cell_type": "markdown",
   "metadata": {},
   "source": [
    "## 10. What is the difference betweeen repeated iterations of a morphology operation with a small kernel, versus a single iteration with a large kernel?"
   ]
  },
  {
   "cell_type": "code",
   "execution_count": null,
   "metadata": {},
   "outputs": [],
   "source": [
    "# 10\n",
    "# TODO"
   ]
  },
  {
   "cell_type": "markdown",
   "metadata": {},
   "source": [
    "## 11. Rotate the lightningbolt and star by 90 degrees\n",
    "\n",
    "https://docs.opencv.org/3.4.1/da/d6e/tutorial_py_geometric_transformations.html"
   ]
  },
  {
   "cell_type": "code",
   "execution_count": null,
   "metadata": {},
   "outputs": [],
   "source": [
    "# 11\n",
    "# TODO"
   ]
  },
  {
   "cell_type": "markdown",
   "metadata": {},
   "source": [
    "## 12. STRETCH GOAL: \n",
    "\n",
    "Visualize the result of Laplacian, Sobel X, and Sobel Y on all of the images. Also, produce a combined image of both Sobel X and Sobel Y for each image. Is Exercise 1 the best way to do this? Are there other options? \n",
    "\n",
    "You should have 4 outputs (Laplacian, SobelX, SobelY, and the combination) for each input image visualized at the end.\n",
    "\n",
    "https://docs.opencv.org/3.4.1/d5/d0f/tutorial_py_gradients.html"
   ]
  },
  {
   "cell_type": "markdown",
   "metadata": {},
   "source": [
    "## When you are done:\n",
    "\n",
    "You should have one or more images for each exercise.\n",
    "\n",
    "1. Double-check that you filled in your name at the top of the notebook!\n",
    "2. Click `File` -> `Export Notebook As` -> `PDF`\n",
    "3. Email the PDF to `YOURTEAMNAME@beaver.works` "
   ]
  }
 ],
 "metadata": {
  "kernelspec": {
   "display_name": "Python 2",
   "language": "python",
   "name": "python2"
  },
  "language_info": {
   "codemirror_mode": {
    "name": "ipython",
    "version": 2
   },
   "file_extension": ".py",
   "mimetype": "text/x-python",
   "name": "python",
   "nbconvert_exporter": "python",
   "pygments_lexer": "ipython2",
   "version": "2.7.12"
  }
 },
 "nbformat": 4,
 "nbformat_minor": 2
}
