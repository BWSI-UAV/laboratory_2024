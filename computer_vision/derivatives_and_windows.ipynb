{
 "cells": [
  {
   "cell_type": "code",
   "execution_count": null,
   "metadata": {},
   "outputs": [],
   "source": [
    "from __future__ import print_function\n",
    "%matplotlib inline\n",
    "import ganymede\n",
    "ganymede.configure('uav.beaver.works')\n",
    "import matplotlib.pyplot as plt\n",
    "import numpy as np\n",
    "import sympy as sym\n",
    "from IPython.display import YouTubeVideo, HTML\n",
    "sym.init_printing(use_latex = \"mathjax\")"
   ]
  },
  {
   "cell_type": "markdown",
   "metadata": {},
   "source": [
    "### Enter your name below and run the cell:\n",
    "\n",
    "Individual cells can be run with `Ctrl` + `Enter`"
   ]
  },
  {
   "cell_type": "code",
   "execution_count": null,
   "metadata": {},
   "outputs": [],
   "source": [
    "ganymede.name('YOUR NAME HERE')\n",
    "def check(p):\n",
    "    ganymede.update(p,True)\n",
    "check(0)"
   ]
  },
  {
   "cell_type": "code",
   "execution_count": null,
   "metadata": {
    "scrolled": true
   },
   "outputs": [],
   "source": [
    "YouTubeVideo('9vKqVkMQHKk', width=560, height=315) # Video by http://www.3blue1brown.com/"
   ]
  },
  {
   "cell_type": "code",
   "execution_count": null,
   "metadata": {
    "scrolled": true
   },
   "outputs": [],
   "source": [
    "YouTubeVideo('bRZmfc1YFsQ', width=560, height=315) #Note: All Khan Academy content is available for free at khanacademy.org"
   ]
  },
  {
   "cell_type": "markdown",
   "metadata": {},
   "source": [
    "### Power Rule\n",
    "\n",
    "The derivative of $x^n$ is $nx^{n-1}$\n",
    "\n",
    "[Read more](https://www.mathsisfun.com/calculus/power-rule.html)\n",
    "\n",
    "[Other derivative rules](https://www.mathsisfun.com/calculus/derivatives-rules.html)"
   ]
  },
  {
   "cell_type": "code",
   "execution_count": 4,
   "metadata": {},
   "outputs": [
    {
     "data": {
      "text/latex": [
       "$$x$$"
      ],
      "text/plain": [
       "x"
      ]
     },
     "execution_count": 4,
     "metadata": {},
     "output_type": "execute_result"
    }
   ],
   "source": [
    "# Creating algebraic symbols \n",
    "x = sym.symbols('x')\n",
    "x"
   ]
  },
  {
   "cell_type": "code",
   "execution_count": 5,
   "metadata": {},
   "outputs": [
    {
     "data": {
      "text/latex": [
       "$$x^{2}$$"
      ],
      "text/plain": [
       " 2\n",
       "x "
      ]
     },
     "execution_count": 5,
     "metadata": {},
     "output_type": "execute_result"
    }
   ],
   "source": [
    "x = sym.symbols('x')\n",
    "expr = x ** 2\n",
    "expr"
   ]
  },
  {
   "cell_type": "code",
   "execution_count": 6,
   "metadata": {},
   "outputs": [
    {
     "data": {
      "text/latex": [
       "$$\\frac{d}{d x} x^{2}$$"
      ],
      "text/plain": [
       "d ⎛ 2⎞\n",
       "──⎝x ⎠\n",
       "dx    "
      ]
     },
     "execution_count": 6,
     "metadata": {},
     "output_type": "execute_result"
    }
   ],
   "source": [
    "sym.Derivative(expr) # does not actually compute the derivative"
   ]
  },
  {
   "cell_type": "code",
   "execution_count": 7,
   "metadata": {},
   "outputs": [
    {
     "data": {
      "text/latex": [
       "$$2 x$$"
      ],
      "text/plain": [
       "2⋅x"
      ]
     },
     "execution_count": 7,
     "metadata": {},
     "output_type": "execute_result"
    }
   ],
   "source": [
    "sym.Derivative(expr).doit()"
   ]
  },
  {
   "cell_type": "code",
   "execution_count": 8,
   "metadata": {},
   "outputs": [
    {
     "data": {
      "text/latex": [
       "$$2 x$$"
      ],
      "text/plain": [
       "2⋅x"
      ]
     },
     "execution_count": 8,
     "metadata": {},
     "output_type": "execute_result"
    }
   ],
   "source": [
    "sym.diff(expr) #equivalent to doit()"
   ]
  },
  {
   "cell_type": "code",
   "execution_count": 9,
   "metadata": {},
   "outputs": [
    {
     "data": {
      "image/png": "[encoded data removed]",
      "text/plain": [
       "<Figure size 432x288 with 1 Axes>"
      ]
     },
     "metadata": {},
     "output_type": "display_data"
    }
   ],
   "source": [
    "sym.plot(expr);"
   ]
  },
  {
   "cell_type": "code",
   "execution_count": 10,
   "metadata": {},
   "outputs": [
    {
     "data": {
      "image/png": "[encoded data removed]",
      "text/plain": [
       "<Figure size 432x288 with 1 Axes>"
      ]
     },
     "metadata": {},
     "output_type": "display_data"
    }
   ],
   "source": [
    "sym.plot(sym.diff(expr));"
   ]
  },
  {
   "cell_type": "code",
   "execution_count": null,
   "metadata": {},
   "outputs": [],
   "source": [
    "x = sym.symbols('x')\n",
    "expr = -x ** 3 + 2\n",
    "\n",
    "sym.plot(expr, xlim=(-2, 2), ylim=(-10, 10));"
   ]
  },
  {
   "cell_type": "code",
   "execution_count": 12,
   "metadata": {},
   "outputs": [
    {
     "data": {
      "text/latex": [
       "$$\\frac{d}{d x} \\left(- x^{3} + 2\\right)$$"
      ],
      "text/plain": [
       "d ⎛   3    ⎞\n",
       "──⎝- x  + 2⎠\n",
       "dx          "
      ]
     },
     "execution_count": 12,
     "metadata": {},
     "output_type": "execute_result"
    }
   ],
   "source": [
    "sym.Derivative(expr)"
   ]
  },
  {
   "cell_type": "code",
   "execution_count": 13,
   "metadata": {},
   "outputs": [
    {
     "data": {
      "text/latex": [
       "$$- 3 x^{2}$$"
      ],
      "text/plain": [
       "    2\n",
       "-3⋅x "
      ]
     },
     "execution_count": 13,
     "metadata": {},
     "output_type": "execute_result"
    }
   ],
   "source": [
    "sym.Derivative(expr).doit()"
   ]
  },
  {
   "cell_type": "code",
   "execution_count": null,
   "metadata": {},
   "outputs": [],
   "source": [
    "sym.plot(sym.diff(expr));"
   ]
  },
  {
   "cell_type": "markdown",
   "metadata": {},
   "source": [
    "Now, let's generate a fake one-dimensional signal:"
   ]
  },
  {
   "cell_type": "code",
   "execution_count": null,
   "metadata": {},
   "outputs": [],
   "source": [
    "ys = np.array([0, 1, 0, 1, 2, 0, 2, 3, 2, 1, 2, 102, 108,  95, 100,  98,  99, 104, 110, 103, 100,  96, 102, 101])\n",
    "\n",
    "fig,ax = plt.subplots()\n",
    "ax.plot([i for i in range(len(ys))], ys);\n",
    "check(1)"
   ]
  },
  {
   "cell_type": "markdown",
   "metadata": {},
   "source": [
    "Next, let's look at small chunks of our fake signal:"
   ]
  },
  {
   "cell_type": "code",
   "execution_count": null,
   "metadata": {},
   "outputs": [],
   "source": [
    "chunks = np.split(ys, len(ys)//2)\n",
    "print(chunks)\n",
    "check(2)"
   ]
  },
  {
   "cell_type": "markdown",
   "metadata": {},
   "source": [
    "**Question:** Which one of these chunks would you say is the most \"interesting\"?\n",
    "\n",
    "**Question** If we always divide up the signal as we did above, will we always find something \"interesting\"?"
   ]
  },
  {
   "cell_type": "markdown",
   "metadata": {},
   "source": [
    "## Convolutions\n",
    "\n",
    "Derivatives and convolutions are one technique to help us tackle the above problem. \n",
    "\n",
    "First, you'll need to generate windows into the signal. Write a function that can generate windows with a user-supplied windowsize, and print them out.\n",
    "\n",
    "An example signal with 3 window sizes is shown below. Your output does not need to replicate the formatting shown, but they should produce the same windows. E.g., given an input signal of `[10,20,30]` and a `windowsize=2`, your function should return `[[10,20], [20,30]]`."
   ]
  },
  {
   "cell_type": "markdown",
   "metadata": {},
   "source": [
    "### A windowsize of 1:\n",
    "\n",
    "```\n",
    "signal:\n",
    "        0   1   0   2   1   0   1 101 100  98 102 101\n",
    " 0:     0\n",
    " 1: ____    1\n",
    " 2: ________    0\n",
    " 3: ____________    2\n",
    " 4: ________________    1\n",
    " 5: ____________________    0\n",
    " 6: ________________________    1\n",
    " 7: ____________________________  101\n",
    " 8: ________________________________  100\n",
    " 9: ____________________________________   98\n",
    "10: ________________________________________  102\n",
    "11: ____________________________________________  101\n",
    "\n",
    "\t :::::::::::::::::::::::::::::::::::::::::::::::::: \n",
    "\n",
    "i:    0 |  i + windowsize:     1  |  window:  [   0]\n",
    "i:    1 |  i + windowsize:     2  |  window:  [   1]\n",
    "i:    2 |  i + windowsize:     3  |  window:  [   0]\n",
    "i:    3 |  i + windowsize:     4  |  window:  [   2]\n",
    "i:    4 |  i + windowsize:     5  |  window:  [   1]\n",
    "i:    5 |  i + windowsize:     6  |  window:  [   0]\n",
    "i:    6 |  i + windowsize:     7  |  window:  [   1]\n",
    "i:    7 |  i + windowsize:     8  |  window:  [ 101]\n",
    "i:    8 |  i + windowsize:     9  |  window:  [ 100]\n",
    "i:    9 |  i + windowsize:    10  |  window:  [  98]\n",
    "i:   10 |  i + windowsize:    11  |  window:  [ 102]\n",
    "i:   11 |  i + windowsize:    12  |  window:  [ 101]\n",
    "```\n",
    "\n",
    "### A windowsize of 2:\n",
    "\n",
    "```\n",
    "signal:\n",
    "        0   1   0   2   1   0   1 101 100  98 102 101\n",
    " 0:     0   1\n",
    " 1: ____    1   0\n",
    " 2: ________    0   2\n",
    " 3: ____________    2   1\n",
    " 4: ________________    1   0\n",
    " 5: ____________________    0   1\n",
    " 6: ________________________    1 101\n",
    " 7: ____________________________  101 100\n",
    " 8: ________________________________  100  98\n",
    " 9: ____________________________________   98 102\n",
    "10: ________________________________________  102 101\n",
    "\n",
    "\t :::::::::::::::::::::::::::::::::::::::::::::::::: \n",
    "\n",
    "i:    0 |  i + windowsize:     2  |  window:  [   0,   1]\n",
    "i:    1 |  i + windowsize:     3  |  window:  [   1,   0]\n",
    "i:    2 |  i + windowsize:     4  |  window:  [   0,   2]\n",
    "i:    3 |  i + windowsize:     5  |  window:  [   2,   1]\n",
    "i:    4 |  i + windowsize:     6  |  window:  [   1,   0]\n",
    "i:    5 |  i + windowsize:     7  |  window:  [   0,   1]\n",
    "i:    6 |  i + windowsize:     8  |  window:  [   1, 101]\n",
    "i:    7 |  i + windowsize:     9  |  window:  [ 101, 100]\n",
    "i:    8 |  i + windowsize:    10  |  window:  [ 100,  98]\n",
    "i:    9 |  i + windowsize:    11  |  window:  [  98, 102]\n",
    "i:   10 |  i + windowsize:    12  |  window:  [ 102, 101]\n",
    "```\n",
    "\n",
    "\n",
    "### A windowsize of 3\n",
    "\n",
    "```\n",
    "signal:\n",
    "        0   1   0   2   1   0   1 101 100  98 102 101\n",
    " 0:     0   1   0\n",
    " 1: ____    1   0   2\n",
    " 2: ________    0   2   1\n",
    " 3: ____________    2   1   0\n",
    " 4: ________________    1   0   1\n",
    " 5: ____________________    0   1 101\n",
    " 6: ________________________    1 101 100\n",
    " 7: ____________________________  101 100  98\n",
    " 8: ________________________________  100  98 102\n",
    " 9: ____________________________________   98 102 101\n",
    "\n",
    "\t :::::::::::::::::::::::::::::::::::::::::::::::::: \n",
    "\n",
    "i:    0 |  i + windowsize:     3  |  window:  [   0,   1,   0]\n",
    "i:    1 |  i + windowsize:     4  |  window:  [   1,   0,   2]\n",
    "i:    2 |  i + windowsize:     5  |  window:  [   0,   2,   1]\n",
    "i:    3 |  i + windowsize:     6  |  window:  [   2,   1,   0]\n",
    "i:    4 |  i + windowsize:     7  |  window:  [   1,   0,   1]\n",
    "i:    5 |  i + windowsize:     8  |  window:  [   0,   1, 101]\n",
    "i:    6 |  i + windowsize:     9  |  window:  [   1, 101, 100]\n",
    "i:    7 |  i + windowsize:    10  |  window:  [ 101, 100,  98]\n",
    "i:    8 |  i + windowsize:    11  |  window:  [ 100,  98, 102]\n",
    "i:    9 |  i + windowsize:    12  |  window:  [  98, 102, 101]\n",
    "```"
   ]
  },
  {
   "cell_type": "markdown",
   "metadata": {},
   "source": [
    "The below resources may be helpful::\n",
    "\n",
    "## List Comprehensions\n",
    "\n",
    "https://www.pythonlikeyoumeanit.com/Module2_EssentialsOfPython/Generators_and_Comprehensions.html#List-&-Tuple-Comprehensions\n",
    "    \n",
    "## Numpy indexing with slices\n",
    "\n",
    "http://www.pythonlikeyoumeanit.com/Module3_IntroducingNumpy/AccessingDataAlongMultipleDimensions.html#Slice-Indexing"
   ]
  },
  {
   "cell_type": "markdown",
   "metadata": {},
   "source": [
    "## Formatting numbers in python\n",
    "\n",
    "https://pyformat.info/#number\n",
    "\n",
    "**input:** `'{:4d}'.format(42)`\n",
    "\n",
    "**output:** `_` `_` `4` `2`\n",
    "\n",
    "**input:**  `'{:06.2f}'.format(3.141592653589793)`\n",
    "\n",
    "**output:**  `003.14`"
   ]
  },
  {
   "cell_type": "markdown",
   "metadata": {},
   "source": [
    "## String concatenation\n",
    "\n",
    "```python\n",
    ">>> print('a' + 'b' + 'c')\n",
    "abc\n",
    ">>> print(''.join(['a', 'b', 'c']))\n",
    "abc\n",
    ">>> print(''.join(['a', 'b', 'c']))      \n",
    "a,b,c\n",
    "```"
   ]
  },
  {
   "cell_type": "code",
   "execution_count": null,
   "metadata": {},
   "outputs": [],
   "source": [
    "def make_windows(sequence, windowsize):\n",
    "    raise NotImplementedError # TODO"
   ]
  },
  {
   "cell_type": "code",
   "execution_count": null,
   "metadata": {},
   "outputs": [],
   "source": [
    "series = [0, 1, 0, 2, 1, 0, 1, 101, 100, 98, 102, 101]\n",
    "\n",
    "\n",
    "make_windows(sequence=series, windowsize=1)\n",
    "make_windows(sequence=series, windowsize=2)\n",
    "make_windows(sequence=series, windowsize=3)\n",
    "\n",
    "check(3)"
   ]
  },
  {
   "cell_type": "markdown",
   "metadata": {},
   "source": [
    "## When you are done:\n",
    "\n",
    "Generate some example outputs in this notebook.\n",
    "\n",
    "1. Double-check that you filled in your name at the top of the notebook!\n",
    "2. Click `File` -> `Export Notebook As` -> `PDF`\n",
    "3. Email the PDF to `YOURTEAMNAME@beaver.works` "
   ]
  }
 ],
 "metadata": {
  "kernelspec": {
   "display_name": "Python 3",
   "language": "python",
   "name": "python3"
  },
  "language_info": {
   "codemirror_mode": {
    "name": "ipython",
    "version": 3
   },
   "file_extension": ".py",
   "mimetype": "text/x-python",
   "name": "python",
   "nbconvert_exporter": "python",
   "pygments_lexer": "ipython3",
   "version": "3.6.8"
  }
 },
 "nbformat": 4,
 "nbformat_minor": 2
}
